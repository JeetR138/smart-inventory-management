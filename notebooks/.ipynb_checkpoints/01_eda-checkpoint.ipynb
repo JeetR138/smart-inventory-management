{
 "cells": [
  {
   "cell_type": "code",
   "execution_count": null,
   "id": "8c6121f7-b857-43a3-b269-ce5899727b2b",
   "metadata": {},
   "outputs": [],
   "source": [
    "import pandas as pd\n",
    "import matplotlib.pyplot as plt\n",
    "import seaborn as sns\n",
    "\n",
    "df = pd.read_csv('../data/inventory_data.csv')\n",
    "df.head()\n",
    "\n",
    "# Plot daily sales\n",
    "plt.figure(figsize=(10,5))\n",
    "sns.lineplot(x='Date', y='Units_Sold', data=df)\n",
    "plt.xticks(rotation=45)\n",
    "plt.title('Daily Sales')\n",
    "plt.show()"
   ]
  }
 ],
 "metadata": {
  "kernelspec": {
   "display_name": "Python 3 (ipykernel)",
   "language": "python",
   "name": "python3"
  },
  "language_info": {
   "codemirror_mode": {
    "name": "ipython",
    "version": 3
   },
   "file_extension": ".py",
   "mimetype": "text/x-python",
   "name": "python",
   "nbconvert_exporter": "python",
   "pygments_lexer": "ipython3",
   "version": "3.13.2"
  }
 },
 "nbformat": 4,
 "nbformat_minor": 5
}
