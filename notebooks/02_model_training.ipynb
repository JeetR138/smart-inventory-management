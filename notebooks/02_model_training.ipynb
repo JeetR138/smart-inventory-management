{
 "cells": [
  {
   "cell_type": "code",
   "execution_count": null,
   "id": "dbe29003-c32e-4cf6-9b85-76e5292aab73",
   "metadata": {},
   "outputs": [],
   "source": [
    "from sklearn.linear_model import LinearRegression\n",
    "from sklearn.model_selection import train_test_split\n",
    "\n",
    "df['Day'] = pd.to_datetime(df['Date']).dt.dayofyear\n",
    "X = df[['Day']]\n",
    "y = df['Units_Sold']\n",
    "\n",
    "X_train, X_test, y_train, y_test = train_test_split(X, y, test_size=0.2)\n",
    "\n",
    "model = LinearRegression()\n",
    "model.fit(X_train, y_train)\n",
    "print(\"Model trained\")\n",
    "\n",
    "# Save model\n",
    "import joblib\n",
    "joblib.dump(model, '../models/inventory_model.pkl')"
   ]
  }
 ],
 "metadata": {
  "kernelspec": {
   "display_name": "Python 3 (ipykernel)",
   "language": "python",
   "name": "python3"
  },
  "language_info": {
   "codemirror_mode": {
    "name": "ipython",
    "version": 3
   },
   "file_extension": ".py",
   "mimetype": "text/x-python",
   "name": "python",
   "nbconvert_exporter": "python",
   "pygments_lexer": "ipython3",
   "version": "3.13.2"
  }
 },
 "nbformat": 4,
 "nbformat_minor": 5
}
